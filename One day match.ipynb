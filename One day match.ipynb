{
 "cells": [
  {
   "cell_type": "code",
   "execution_count": 41,
   "id": "2481c215",
   "metadata": {},
   "outputs": [],
   "source": [
    "import json\n",
    "import pandas as pd\n",
    "\n",
    "with open(r\"C:\\Users\\prava\\Downloads\\odms_json\\460039.json\") as f:\n",
    "    data = json.load(f)\n",
    "    \n",
    "#convert to dataframe \n",
    "df = pd.json_normalize(data, 'innings')"
   ]
  },
  {
   "cell_type": "code",
   "execution_count": 50,
   "id": "e09e9725",
   "metadata": {},
   "outputs": [
    {
     "data": {
      "text/html": [
       "<div>\n",
       "<style scoped>\n",
       "    .dataframe tbody tr th:only-of-type {\n",
       "        vertical-align: middle;\n",
       "    }\n",
       "\n",
       "    .dataframe tbody tr th {\n",
       "        vertical-align: top;\n",
       "    }\n",
       "\n",
       "    .dataframe thead th {\n",
       "        text-align: right;\n",
       "    }\n",
       "</style>\n",
       "<table border=\"1\" class=\"dataframe\">\n",
       "  <thead>\n",
       "    <tr style=\"text-align: right;\">\n",
       "      <th></th>\n",
       "      <th>team</th>\n",
       "      <th>overs</th>\n",
       "      <th>powerplays</th>\n",
       "      <th>target.overs</th>\n",
       "      <th>target.runs</th>\n",
       "    </tr>\n",
       "  </thead>\n",
       "  <tbody>\n",
       "    <tr>\n",
       "      <th>0</th>\n",
       "      <td>Bahamas</td>\n",
       "      <td>[{'over': 0, 'deliveries': [{'batter': 'M Tayl...</td>\n",
       "      <td>[{'from': 0.1, 'to': 9.6, 'type': 'mandatory'}]</td>\n",
       "      <td>NaN</td>\n",
       "      <td>NaN</td>\n",
       "    </tr>\n",
       "    <tr>\n",
       "      <th>1</th>\n",
       "      <td>Bermuda</td>\n",
       "      <td>[{'over': 0, 'deliveries': [{'batter': 'FS Cro...</td>\n",
       "      <td>[{'from': 0.1, 'to': 9.7, 'type': 'mandatory'}]</td>\n",
       "      <td>49.0</td>\n",
       "      <td>129.0</td>\n",
       "    </tr>\n",
       "  </tbody>\n",
       "</table>\n",
       "</div>"
      ],
      "text/plain": [
       "      team                                              overs  \\\n",
       "0  Bahamas  [{'over': 0, 'deliveries': [{'batter': 'M Tayl...   \n",
       "1  Bermuda  [{'over': 0, 'deliveries': [{'batter': 'FS Cro...   \n",
       "\n",
       "                                        powerplays  target.overs  target.runs  \n",
       "0  [{'from': 0.1, 'to': 9.6, 'type': 'mandatory'}]           NaN          NaN  \n",
       "1  [{'from': 0.1, 'to': 9.7, 'type': 'mandatory'}]          49.0        129.0  "
      ]
     },
     "execution_count": 50,
     "metadata": {},
     "output_type": "execute_result"
    }
   ],
   "source": [
    "df"
   ]
  },
  {
   "cell_type": "code",
   "execution_count": 45,
   "id": "0287f7b2",
   "metadata": {},
   "outputs": [
    {
     "data": {
      "text/plain": [
       "Index(['team', 'overs', 'powerplays', 'target.overs', 'target.runs'], dtype='object')"
      ]
     },
     "execution_count": 45,
     "metadata": {},
     "output_type": "execute_result"
    }
   ],
   "source": [
    "df.columns"
   ]
  }
 ],
 "metadata": {
  "kernelspec": {
   "display_name": "Python 3 (ipykernel)",
   "language": "python",
   "name": "python3"
  },
  "language_info": {
   "codemirror_mode": {
    "name": "ipython",
    "version": 3
   },
   "file_extension": ".py",
   "mimetype": "text/x-python",
   "name": "python",
   "nbconvert_exporter": "python",
   "pygments_lexer": "ipython3",
   "version": "3.10.9"
  }
 },
 "nbformat": 4,
 "nbformat_minor": 5
}
